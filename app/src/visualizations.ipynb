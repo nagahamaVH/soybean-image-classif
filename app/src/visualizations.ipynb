{
 "cells": [
  {
   "cell_type": "code",
   "execution_count": null,
   "id": "subjective-northwest",
   "metadata": {},
   "outputs": [],
   "source": [
    "import numpy as np\n",
    "import cv2\n",
    "import re\n",
    "from keras.models import model_from_json, Model\n",
    "import matplotlib.pyplot as plt\n",
    "from grad_cam import make_gradcam_heatmap, superimpose\n",
    "from utils import get_pred_class, sample_from_true_prediction_given_class, get_layer_index_by_name\n",
    "\n",
    "import tensorflow as tf\n",
    "print(\"Num GPUs Available:\", len(tf.config.experimental.list_physical_devices('GPU')))"
   ]
  },
  {
   "cell_type": "code",
   "execution_count": null,
   "id": "amateur-double",
   "metadata": {},
   "outputs": [],
   "source": [
    "from tensorflow.compat.v1 import ConfigProto\n",
    "from tensorflow.compat.v1 import InteractiveSession\n",
    "\n",
    "config = ConfigProto()\n",
    "config.gpu_options.allow_growth = True\n",
    "session = InteractiveSession(config=config)"
   ]
  },
  {
   "cell_type": "markdown",
   "id": "necessary-reset",
   "metadata": {},
   "source": [
    "## Loading data"
   ]
  },
  {
   "cell_type": "code",
   "execution_count": null,
   "id": "particular-jurisdiction",
   "metadata": {},
   "outputs": [],
   "source": [
    "x_data = np.load('../data/soja_images_150_new.npy', allow_pickle=True)\n",
    "y_data = np.load('../data/soja_labels_150_new.npy', allow_pickle=True)\n",
    "\n",
    "x_train = np.load('../data/x_train.npy', allow_pickle=True)\n",
    "x_test = np.load('../data/x_test.npy', allow_pickle=True)\n",
    "y_train = np.load('../data/y_train.npy', allow_pickle=True)\n",
    "y_test = np.load('../data/y_test.npy', allow_pickle=True)\n",
    "\n",
    "out_size = y_train.shape[1]"
   ]
  },
  {
   "cell_type": "markdown",
   "id": "specified-announcement",
   "metadata": {},
   "source": [
    "## Distribution of response variable\n",
    "\n",
    "- 0: normal\n",
    "- 1: quebrado\n",
    "- 2: avariado\n",
    "- 3: verde\n",
    "- 4: ardido"
   ]
  },
  {
   "cell_type": "code",
   "execution_count": null,
   "id": "popular-progressive",
   "metadata": {},
   "outputs": [],
   "source": [
    "plt.figure(figsize=(8, 5))\n",
    "plt.bar(np.unique(y_data), np.bincount(y_data))\n",
    "plt.xlabel(\"Class\")\n",
    "plt.ylabel(\"Count\")\n",
    "plt.title(\"Distribution of soybean classes\")\n",
    "# plt.savefig(\"../images/soybean_count.png\")"
   ]
  },
  {
   "cell_type": "code",
   "execution_count": null,
   "id": "residential-jurisdiction",
   "metadata": {},
   "outputs": [],
   "source": [
    "seed = 1932\n",
    "\n",
    "n_images = 6\n",
    "\n",
    "# fig, axs = plt.subplots(out_size, n_images, figsize=(8, 8))\n",
    "fig, axs = plt.subplots(out_size, n_images, figsize=(16, 12))\n",
    "\n",
    "for i in range(out_size):\n",
    "    np.random.seed(seed)\n",
    "    sample_id = np.random.choice(np.where(y_data==i)[0], n_images)\n",
    "    for j in range(n_images):\n",
    "        axs[i, j].imshow(x_data[sample_id[j]])\n",
    "        axs[i, j].set_yticklabels([])\n",
    "        axs[i, j].set_xticklabels([])\n",
    "        axs[i, j].set_title(i)\n",
    "\n",
    "# plt.savefig(\"../images/soybean_grid.png\")"
   ]
  },
  {
   "cell_type": "markdown",
   "id": "civilian-socket",
   "metadata": {},
   "source": [
    "## Loading trained model"
   ]
  },
  {
   "cell_type": "code",
   "execution_count": null,
   "id": "polished-mills",
   "metadata": {},
   "outputs": [],
   "source": [
    "import mlflow\n",
    "kk = mlflow.keras.load_model(\"./mlruns/0/710cb4e3e4a84168bde8b621d6b8c798/artifacts/models/\")\n",
    "kk.evaluate(x_test, y_test)"
   ]
  },
  {
   "cell_type": "code",
   "execution_count": null,
   "id": "fifty-scale",
   "metadata": {},
   "outputs": [],
   "source": [
    "with open(\"../data/model2.json\", \"r\") as f:\n",
    "    model_json = f.read()\n",
    "\n",
    "model = model_from_json(model_json)\n",
    "model.load_weights(\"../data/weights2.h5\")"
   ]
  },
  {
   "cell_type": "code",
   "execution_count": null,
   "id": "resistant-surprise",
   "metadata": {},
   "outputs": [],
   "source": [
    "model.summary()"
   ]
  },
  {
   "cell_type": "markdown",
   "id": "mysterious-legend",
   "metadata": {},
   "source": [
    "## Grad-CAM"
   ]
  },
  {
   "cell_type": "code",
   "execution_count": null,
   "id": "flying-providence",
   "metadata": {},
   "outputs": [],
   "source": [
    "img_size = x_train.shape[:2]\n",
    "\n",
    "last_conv_layer_name = \"conv5_block3_out\"\n",
    "classifier_layer_names = [\n",
    "    \"out_pool\",\n",
    "    \"out_layer\"\n",
    "]\n",
    "\n",
    "# Get labels\n",
    "y_class = np.where(y_test == 1)[1]\n",
    "\n",
    "# Get predicted labels\n",
    "pred_class = get_pred_class(model, x_test)"
   ]
  },
  {
   "cell_type": "code",
   "execution_count": null,
   "id": "interracial-karma",
   "metadata": {},
   "outputs": [],
   "source": [
    "seed = 329\n",
    "n_images = 6\n",
    "alpha = 0.5\n",
    "\n",
    "fig, axs = plt.subplots(out_size, n_images, figsize=(16,12))\n",
    "\n",
    "for i in range(out_size):\n",
    "    sample_id = sample_from_true_prediction_given_class(pred_class, y_class, n_images, i, seed)\n",
    "    for j in range(n_images):\n",
    "        img = x_test[sample_id[j]]\n",
    "        img_model = np.expand_dims(img, axis=0)\n",
    "        heatmap = make_gradcam_heatmap(img_model, model, last_conv_layer_name, classifier_layer_names)\n",
    "        superimp = superimpose(img, heatmap, alpha)\n",
    "        axs[i, j].imshow(superimp)\n",
    "        axs[i, j].set_yticklabels([])\n",
    "        axs[i, j].set_xticklabels([])\n",
    "        axs[i, j].set_title(i)"
   ]
  },
  {
   "cell_type": "markdown",
   "id": "disabled-romantic",
   "metadata": {},
   "source": [
    "### Visualizing per channel color"
   ]
  },
  {
   "cell_type": "code",
   "execution_count": null,
   "id": "brutal-victor",
   "metadata": {},
   "outputs": [],
   "source": [
    "seed = 352\n",
    "n_channels = 3\n",
    "channels_name = [\"Red\", \"Green\", \"Blue\"]\n",
    "n_images = 5\n",
    "alpha = 0.8\n",
    "\n",
    "class_value = 0\n",
    "sample_id = sample_from_true_prediction_given_class(pred_class, y_class, n_images, class_value, seed)\n",
    "\n",
    "fig, axs = plt.subplots(n_images, n_channels + 2, figsize=(14,12))\n",
    "\n",
    "for i in range(n_images):\n",
    "    img = x_test[sample_id[i]]\n",
    "    img_model = np.expand_dims(img, axis=0)\n",
    "    heatmap = make_gradcam_heatmap(img_model, model, last_conv_layer_name, classifier_layer_names)\n",
    "    superimp = superimpose(img, heatmap, alpha)\n",
    "\n",
    "    axs[i, 0].imshow(img.astype(np.uint8))\n",
    "    axs[i, 0].set_yticklabels([])\n",
    "    axs[i, 0].set_xticklabels([])\n",
    "    axs[i, 0].set_title(\"Original\")\n",
    "    \n",
    "    axs[i, 1].imshow(superimp)\n",
    "    axs[i, 1].set_yticklabels([])\n",
    "    axs[i, 1].set_xticklabels([])\n",
    "    axs[i, 1].set_title(\"Grad-CAM\")\n",
    "        \n",
    "    for j in range(n_channels):\n",
    "        img_channel = img[:, :, j]\n",
    "        img_channel = cv2.cvtColor(img_channel, cv2.COLOR_GRAY2RGB).astype(np.uint8)\n",
    "        axs_pos = j + 2\n",
    "        axs[i, axs_pos].imshow(img_channel)\n",
    "        axs[i, axs_pos].set_yticklabels([])\n",
    "        axs[i, axs_pos].set_xticklabels([])\n",
    "        axs[i, axs_pos].set_title(channels_name[j])"
   ]
  },
  {
   "cell_type": "code",
   "execution_count": null,
   "id": "elementary-isolation",
   "metadata": {},
   "outputs": [],
   "source": [
    "seed = 352\n",
    "n_channels = 3\n",
    "channels_name = [\"Red\", \"Green\", \"Blue\"]\n",
    "n_images = 5\n",
    "alpha = 0.8\n",
    "\n",
    "class_value = 1\n",
    "sample_id = sample_from_true_prediction_given_class(pred_class, y_class, n_images, class_value, seed)\n",
    "\n",
    "fig, axs = plt.subplots(n_images, n_channels + 2, figsize=(14,12))\n",
    "\n",
    "for i in range(n_images):\n",
    "    img = x_test[sample_id[i]]\n",
    "    img_model = np.expand_dims(img, axis=0)\n",
    "    heatmap = make_gradcam_heatmap(img_model, model, last_conv_layer_name, classifier_layer_names)\n",
    "    superimp = superimpose(img, heatmap, alpha)\n",
    "\n",
    "    axs[i, 0].imshow(img.astype(np.uint8))\n",
    "    axs[i, 0].set_yticklabels([])\n",
    "    axs[i, 0].set_xticklabels([])\n",
    "    axs[i, 0].set_title(\"Original\")\n",
    "    \n",
    "    axs[i, 1].imshow(superimp)\n",
    "    axs[i, 1].set_yticklabels([])\n",
    "    axs[i, 1].set_xticklabels([])\n",
    "    axs[i, 1].set_title(\"Grad-CAM\")\n",
    "        \n",
    "    for j in range(n_channels):\n",
    "        img_channel = img[:, :, j]\n",
    "        img_channel = cv2.cvtColor(img_channel, cv2.COLOR_GRAY2RGB).astype(np.uint8)\n",
    "        axs_pos = j + 2\n",
    "        axs[i, axs_pos].imshow(img_channel)\n",
    "        axs[i, axs_pos].set_yticklabels([])\n",
    "        axs[i, axs_pos].set_xticklabels([])\n",
    "        axs[i, axs_pos].set_title(channels_name[j])"
   ]
  },
  {
   "cell_type": "code",
   "execution_count": null,
   "id": "aquatic-newsletter",
   "metadata": {},
   "outputs": [],
   "source": [
    "seed = 352\n",
    "n_channels = 3\n",
    "channels_name = [\"Red\", \"Green\", \"Blue\"]\n",
    "n_images = 5\n",
    "alpha = 0.8\n",
    "\n",
    "class_value = 2\n",
    "sample_id = sample_from_true_prediction_given_class(pred_class, y_class, n_images, class_value, seed)\n",
    "\n",
    "fig, axs = plt.subplots(n_images, n_channels + 2, figsize=(14,12))\n",
    "\n",
    "for i in range(n_images):\n",
    "    img = x_test[sample_id[i]]\n",
    "    img_model = np.expand_dims(img, axis=0)\n",
    "    heatmap = make_gradcam_heatmap(img_model, model, last_conv_layer_name, classifier_layer_names)\n",
    "    superimp = superimpose(img, heatmap, alpha)\n",
    "\n",
    "    axs[i, 0].imshow(img.astype(np.uint8))\n",
    "    axs[i, 0].set_yticklabels([])\n",
    "    axs[i, 0].set_xticklabels([])\n",
    "    axs[i, 0].set_title(\"Original\")\n",
    "    \n",
    "    axs[i, 1].imshow(superimp)\n",
    "    axs[i, 1].set_yticklabels([])\n",
    "    axs[i, 1].set_xticklabels([])\n",
    "    axs[i, 1].set_title(\"Grad-CAM\")\n",
    "        \n",
    "    for j in range(n_channels):\n",
    "        img_channel = img[:, :, j]\n",
    "        img_channel = cv2.cvtColor(img_channel, cv2.COLOR_GRAY2RGB).astype(np.uint8)\n",
    "        axs_pos = j + 2\n",
    "        axs[i, axs_pos].imshow(img_channel)\n",
    "        axs[i, axs_pos].set_yticklabels([])\n",
    "        axs[i, axs_pos].set_xticklabels([])\n",
    "        axs[i, axs_pos].set_title(channels_name[j])"
   ]
  },
  {
   "cell_type": "code",
   "execution_count": null,
   "id": "indonesian-dodge",
   "metadata": {},
   "outputs": [],
   "source": [
    "seed = 352\n",
    "n_channels = 3\n",
    "channels_name = [\"Red\", \"Green\", \"Blue\"]\n",
    "n_images = 5\n",
    "alpha = 0.8\n",
    "\n",
    "class_value = 3\n",
    "sample_id = sample_from_true_prediction_given_class(pred_class, y_class, n_images, class_value, seed)\n",
    "\n",
    "fig, axs = plt.subplots(n_images, n_channels + 2, figsize=(14,12))\n",
    "\n",
    "for i in range(n_images):\n",
    "    img = x_test[sample_id[i]]\n",
    "    img_model = np.expand_dims(img, axis=0)\n",
    "    heatmap = make_gradcam_heatmap(img_model, model, last_conv_layer_name, classifier_layer_names)\n",
    "    superimp = superimpose(img, heatmap, alpha)\n",
    "\n",
    "    axs[i, 0].imshow(img.astype(np.uint8))\n",
    "    axs[i, 0].set_yticklabels([])\n",
    "    axs[i, 0].set_xticklabels([])\n",
    "    axs[i, 0].set_title(\"Original\")\n",
    "    \n",
    "    axs[i, 1].imshow(superimp)\n",
    "    axs[i, 1].set_yticklabels([])\n",
    "    axs[i, 1].set_xticklabels([])\n",
    "    axs[i, 1].set_title(\"Grad-CAM\")\n",
    "        \n",
    "    for j in range(n_channels):\n",
    "        img_channel = img[:, :, j]\n",
    "        img_channel = cv2.cvtColor(img_channel, cv2.COLOR_GRAY2RGB).astype(np.uint8)\n",
    "        axs_pos = j + 2\n",
    "        axs[i, axs_pos].imshow(img_channel)\n",
    "        axs[i, axs_pos].set_yticklabels([])\n",
    "        axs[i, axs_pos].set_xticklabels([])\n",
    "        axs[i, axs_pos].set_title(channels_name[j])"
   ]
  },
  {
   "cell_type": "code",
   "execution_count": null,
   "id": "ranking-russia",
   "metadata": {},
   "outputs": [],
   "source": [
    "seed = 352\n",
    "n_channels = 3\n",
    "channels_name = [\"Red\", \"Green\", \"Blue\"]\n",
    "n_images = 5\n",
    "alpha = 0.8\n",
    "\n",
    "class_value = 4\n",
    "sample_id = sample_from_true_prediction_given_class(pred_class, y_class, n_images, class_value, seed)\n",
    "\n",
    "fig, axs = plt.subplots(n_images, n_channels + 2, figsize=(14,12))\n",
    "\n",
    "for i in range(n_images):\n",
    "    img = x_test[sample_id[i]]\n",
    "    img_model = np.expand_dims(img, axis=0)\n",
    "    heatmap = make_gradcam_heatmap(img_model, model, last_conv_layer_name, classifier_layer_names)\n",
    "    superimp = superimpose(img, heatmap, alpha)\n",
    "\n",
    "    axs[i, 0].imshow(img.astype(np.uint8))\n",
    "    axs[i, 0].set_yticklabels([])\n",
    "    axs[i, 0].set_xticklabels([])\n",
    "    axs[i, 0].set_title(\"Original\")\n",
    "    \n",
    "    axs[i, 1].imshow(superimp)\n",
    "    axs[i, 1].set_yticklabels([])\n",
    "    axs[i, 1].set_xticklabels([])\n",
    "    axs[i, 1].set_title(\"Grad-CAM\")\n",
    "        \n",
    "    for j in range(n_channels):\n",
    "        img_channel = img[:, :, j]\n",
    "        img_channel = cv2.cvtColor(img_channel, cv2.COLOR_GRAY2RGB).astype(np.uint8)\n",
    "        axs_pos = j + 2\n",
    "        axs[i, axs_pos].imshow(img_channel)\n",
    "        axs[i, axs_pos].set_yticklabels([])\n",
    "        axs[i, axs_pos].set_xticklabels([])\n",
    "        axs[i, axs_pos].set_title(channels_name[j])"
   ]
  },
  {
   "cell_type": "markdown",
   "id": "parliamentary-superior",
   "metadata": {},
   "source": [
    "## Layers Activations"
   ]
  },
  {
   "cell_type": "code",
   "execution_count": null,
   "id": "monetary-highlight",
   "metadata": {},
   "outputs": [],
   "source": [
    "layer_idx = get_layer_index_by_name(model, \"out_pool\")\n",
    "\n",
    "layer_names = [layer.name for layer in model.layers[:layer_idx]]\n",
    "layer_outputs = [layer.output for layer in model.layers[:layer_idx]] \n",
    "\n",
    "activation_model = Model(inputs=model.input, outputs=layer_outputs)"
   ]
  },
  {
   "cell_type": "markdown",
   "id": "honey-glasgow",
   "metadata": {},
   "source": [
    "### Selecting layers for plot"
   ]
  },
  {
   "cell_type": "code",
   "execution_count": null,
   "id": "local-alias",
   "metadata": {},
   "outputs": [],
   "source": [
    "# pattern = re.compile(\"input_1|\\w+_bn$|\\w+_pad$\")\n",
    "\n",
    "# layer_names_selected = []\n",
    "# for name in layer_names:\n",
    "#     if not bool(pattern.match(name)):\n",
    "#         layer_names_selected.append(name)\n",
    "\n",
    "layer_names_selected = [\"pool1_pool\", \"conv2_block3_out\", \"conv3_block4_out\", \"conv4_block6_out\", \n",
    "                        \"conv5_block3_out\"]"
   ]
  },
  {
   "cell_type": "code",
   "execution_count": null,
   "id": "fixed-passenger",
   "metadata": {},
   "outputs": [],
   "source": [
    "img = x_test[52]\n",
    "img_model = np.expand_dims(img, axis=0)\n",
    "\n",
    "activations = activation_model.predict(img_model)"
   ]
  },
  {
   "cell_type": "code",
   "execution_count": null,
   "id": "cheap-amsterdam",
   "metadata": {},
   "outputs": [],
   "source": [
    "images_per_row = 16\n",
    "max_imgs = images_per_row * 4\n",
    "\n",
    "for layer_name, layer_activation in zip(layer_names, activations): # Displays the feature maps    \n",
    "    if layer_name in layer_names_selected:\n",
    "        n_features = layer_activation.shape[-1] # Number of features in the feature map\n",
    "        if n_features > max_imgs:\n",
    "            n_features = max_imgs\n",
    "        size = layer_activation.shape[1] #The feature map has shape (1, size, size, n_features).\n",
    "        n_cols = n_features // images_per_row # Tiles the activation channels in this matrix\n",
    "        display_grid = np.zeros((size * n_cols, images_per_row * size))\n",
    "        for col in range(n_cols): # Tiles each filter into a big horizontal grid\n",
    "            for row in range(images_per_row):\n",
    "                channel_image = layer_activation[0, :, :, col * images_per_row + row]\n",
    "                channel_image = (channel_image - channel_image.mean()) / channel_image.std()\n",
    "                channel_image *= 64\n",
    "                channel_image += 128\n",
    "                channel_image = np.clip(channel_image, 0, 255).astype('uint8')\n",
    "                display_grid[col * size : (col + 1) * size, # Displays the grid\n",
    "                             row * size : (row + 1) * size] = channel_image\n",
    "        scale = 1. / size\n",
    "        plt.figure(figsize=(scale * display_grid.shape[1], scale * display_grid.shape[0]))\n",
    "        plt.title(layer_name)\n",
    "        plt.grid(False)\n",
    "        plt.axis(\"off\")\n",
    "        plt.imshow(display_grid, aspect='auto', cmap='viridis')"
   ]
  },
  {
   "cell_type": "code",
   "execution_count": null,
   "id": "direct-counter",
   "metadata": {},
   "outputs": [],
   "source": []
  }
 ],
 "metadata": {
  "kernelspec": {
   "display_name": "Python 3",
   "language": "python",
   "name": "python3"
  },
  "language_info": {
   "codemirror_mode": {
    "name": "ipython",
    "version": 3
   },
   "file_extension": ".py",
   "mimetype": "text/x-python",
   "name": "python",
   "nbconvert_exporter": "python",
   "pygments_lexer": "ipython3",
   "version": "3.6.9"
  }
 },
 "nbformat": 4,
 "nbformat_minor": 5
}
